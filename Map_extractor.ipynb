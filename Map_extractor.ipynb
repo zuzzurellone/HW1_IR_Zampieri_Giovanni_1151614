{
 "cells": [
  {
   "cell_type": "code",
   "execution_count": 33,
   "metadata": {},
   "outputs": [
    {
     "name": "stdout",
     "output_type": "stream",
     "text": [
      "0.5094\n",
      "0.0194\n",
      "0.1974\n",
      "0.1156\n",
      "0.1306\n",
      "0.0105\n",
      "0.2849\n",
      "0.2997\n",
      "0.0472\n",
      "0.2020\n",
      "0.3073\n",
      "0.1127\n",
      "0.0317\n",
      "0.5380\n",
      "0.7171\n",
      "0.3362\n",
      "0.1039\n",
      "0.3899\n",
      "0.2040\n",
      "0.1062\n",
      "0.0567\n",
      "0.2499\n",
      "0.3535\n",
      "0.2401\n",
      "0.2610\n",
      "0.0094\n",
      "0.2967\n",
      "0.0347\n",
      "0.0751\n",
      "0.1612\n",
      "0.0488\n",
      "0.5689\n",
      "0.0264\n",
      "0.2312\n",
      "0.2283\n",
      "0.0223\n",
      "0.1467\n",
      "0.2472\n",
      "0.0147\n",
      "0.1828\n",
      "0.1120\n",
      "0.4155\n",
      "0.0473\n",
      "0.0347\n",
      "0.1121\n",
      "0.3001\n",
      "0.3065\n",
      "0.1018\n",
      "0.0808\n",
      "0.4126\n",
      "0.2009\n"
     ]
    }
   ],
   "source": [
    "#hello\n",
    "data=[]\n",
    "flag=False\n",
    "with open('TFIDFsenzaSWedST.txt','r') as f:\n",
    "    for line in f:\n",
    "        if line.startswith('map')and not line.startswith('map_cut') :\n",
    "            flag=True\n",
    "        if flag:\n",
    "            data.append(line.split())\n",
    "            flag=False\n",
    "#to be copy-pasted on matlab\n",
    "#remember: the last printed value represents \"map all\" and has to be discarded \n",
    "for i in data:\n",
    "    print(i[2])\n",
    "\n"
   ]
  },
  {
   "cell_type": "code",
   "execution_count": null,
   "metadata": {},
   "outputs": [],
   "source": []
  }
 ],
 "metadata": {
  "kernelspec": {
   "display_name": "Python 3",
   "language": "python",
   "name": "python3"
  },
  "language_info": {
   "codemirror_mode": {
    "name": "ipython",
    "version": 3
   },
   "file_extension": ".py",
   "mimetype": "text/x-python",
   "name": "python",
   "nbconvert_exporter": "python",
   "pygments_lexer": "ipython3",
   "version": "3.7.0"
  }
 },
 "nbformat": 4,
 "nbformat_minor": 2
}
